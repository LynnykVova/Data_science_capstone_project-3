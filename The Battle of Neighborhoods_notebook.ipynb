{
    "cells": [
        {
            "cell_type": "markdown",
            "metadata": {},
            "source": "# National Football League "
        },
        {
            "cell_type": "markdown",
            "metadata": {},
            "source": "## Stadiums. Places to enjoy and business"
        },
        {
            "cell_type": "markdown",
            "metadata": {},
            "source": "## 1. Business problem"
        },
        {
            "cell_type": "markdown",
            "metadata": {},
            "source": "Stadiums are a place that gathers millions of fans.\nTherefore, we have the main places for analysis and conclusion of two main problems\\\n**1. For fans**\\\nStadiums segmenting will help many fans, traveling with their favorite team, to understand what type of stadium will be the next or in the nearest future. It will be easy to understand: it is easy to find a suitable place to stay or not, will be a lot of venues around or not etc.\n\n**2. For Business**\\\nWe try to segment the stadium depending on the places that are nearby to identify areas that can be developed in a certain way (need more space for food, hotels or some others)"
        },
        {
            "cell_type": "markdown",
            "metadata": {},
            "source": "## 2.  Data  describe "
        },
        {
            "cell_type": "markdown",
            "metadata": {},
            "source": "We will use data from network. Mainly from Wikipedia. Also we need a Forsquare API to make our main work."
        },
        {
            "cell_type": "markdown",
            "metadata": {},
            "source": "## *Data_Workplace*"
        },
        {
            "cell_type": "markdown",
            "metadata": {},
            "source": "### sample of data"
        },
        {
            "cell_type": "code",
            "execution_count": 6,
            "metadata": {},
            "outputs": [
                {
                    "name": "stdout",
                    "output_type": "stream",
                    "text": "Solving environment: \\ ^C\nfailed\n\nCondaError: KeyboardInterrupt\n\n"
                }
            ],
            "source": "import numpy as np\nimport pandas as pd\nfrom geopy.geocoders import Nominatim \nimport json \nimport requests \nfrom pandas.io.json import json_normalize \nimport matplotlib.cm as cm\nimport matplotlib.colors as colors\nfrom sklearn.cluster import KMeans\n%matplotlib inline\n!conda install -c conda-forge folium=0.5.0 --yes\nimport folium"
        },
        {
            "cell_type": "code",
            "execution_count": 7,
            "metadata": {},
            "outputs": [
                {
                    "data": {
                        "text/html": "<div>\n<style scoped>\n    .dataframe tbody tr th:only-of-type {\n        vertical-align: middle;\n    }\n\n    .dataframe tbody tr th {\n        vertical-align: top;\n    }\n\n    .dataframe thead th {\n        text-align: right;\n    }\n</style>\n<table border=\"1\" class=\"dataframe\">\n  <thead>\n    <tr style=\"text-align: right;\">\n      <th></th>\n      <th>Division</th>\n      <th>Club</th>\n      <th>City</th>\n      <th>Stadium</th>\n      <th>Capacity</th>\n      <th>Coordinates</th>\n      <th>First season</th>\n      <th>Head coach</th>\n    </tr>\n  </thead>\n  <tbody>\n    <tr>\n      <th>0</th>\n      <td>East</td>\n      <td>Buffalo Bills</td>\n      <td>Orchard Park, New York</td>\n      <td>New Era Field</td>\n      <td>71608</td>\n      <td>42\u00b046\u203226\u2033N 78\u00b047\u203213\u2033W\ufeff / \ufeff42.774\u00b0N 78.787\u00b0W</td>\n      <td>1960 (AFL), 1970 (NFL)</td>\n      <td>Sean McDermott</td>\n    </tr>\n    <tr>\n      <th>1</th>\n      <td>East</td>\n      <td>Miami Dolphins</td>\n      <td>Miami Gardens, Florida</td>\n      <td>Hard Rock Stadium</td>\n      <td>64767</td>\n      <td>25\u00b057\u203229\u2033N 80\u00b014\u203220\u2033W\ufeff / \ufeff25.958\u00b0N 80.239\u00b0W</td>\n      <td>1966 (AFL), 1970 (NFL)</td>\n      <td>Brian Flores</td>\n    </tr>\n    <tr>\n      <th>2</th>\n      <td>East</td>\n      <td>New England Patriots</td>\n      <td>Foxborough, Massachusetts</td>\n      <td>Gillette Stadium</td>\n      <td>65878</td>\n      <td>42\u00b005\u203228\u2033N 71\u00b015\u203250\u2033W\ufeff / \ufeff42.091\u00b0N 71.264\u00b0W</td>\n      <td>1960 (AFL), 1970 (NFL)</td>\n      <td>Bill Belichick</td>\n    </tr>\n    <tr>\n      <th>3</th>\n      <td>East</td>\n      <td>New York Jets</td>\n      <td>East Rutherford, New Jersey</td>\n      <td>MetLife Stadium[C]</td>\n      <td>82500</td>\n      <td>40\u00b048\u203250\u2033N 74\u00b004\u203226\u2033W\ufeff / \ufeff40.814\u00b0N 74.074\u00b0W</td>\n      <td>1960 (AFL), 1970 (NFL)</td>\n      <td>Adam Gase</td>\n    </tr>\n    <tr>\n      <th>4</th>\n      <td>North</td>\n      <td>Baltimore Ravens</td>\n      <td>Baltimore, Maryland</td>\n      <td>M&amp;T Bank Stadium</td>\n      <td>71008</td>\n      <td>39\u00b016\u203241\u2033N 76\u00b037\u203223\u2033W\ufeff / \ufeff39.278\u00b0N 76.623\u00b0W</td>\n      <td>1996[D]</td>\n      <td>John Harbaugh</td>\n    </tr>\n  </tbody>\n</table>\n</div>",
                        "text/plain": "  Division                  Club                         City  \\\n0     East         Buffalo Bills       Orchard Park, New York   \n1     East        Miami Dolphins       Miami Gardens, Florida   \n2     East  New England Patriots    Foxborough, Massachusetts   \n3     East         New York Jets  East Rutherford, New Jersey   \n4    North      Baltimore Ravens          Baltimore, Maryland   \n\n              Stadium Capacity                                  Coordinates  \\\n0       New Era Field    71608  42\u00b046\u203226\u2033N 78\u00b047\u203213\u2033W\ufeff / \ufeff42.774\u00b0N 78.787\u00b0W   \n1   Hard Rock Stadium    64767  25\u00b057\u203229\u2033N 80\u00b014\u203220\u2033W\ufeff / \ufeff25.958\u00b0N 80.239\u00b0W   \n2    Gillette Stadium    65878  42\u00b005\u203228\u2033N 71\u00b015\u203250\u2033W\ufeff / \ufeff42.091\u00b0N 71.264\u00b0W   \n3  MetLife Stadium[C]    82500  40\u00b048\u203250\u2033N 74\u00b004\u203226\u2033W\ufeff / \ufeff40.814\u00b0N 74.074\u00b0W   \n4    M&T Bank Stadium    71008  39\u00b016\u203241\u2033N 76\u00b037\u203223\u2033W\ufeff / \ufeff39.278\u00b0N 76.623\u00b0W   \n\n             First season      Head coach  \n0  1960 (AFL), 1970 (NFL)  Sean McDermott  \n1  1966 (AFL), 1970 (NFL)    Brian Flores  \n2  1960 (AFL), 1970 (NFL)  Bill Belichick  \n3  1960 (AFL), 1970 (NFL)       Adam Gase  \n4                 1996[D]   John Harbaugh  "
                    },
                    "execution_count": 7,
                    "metadata": {},
                    "output_type": "execute_result"
                }
            ],
            "source": "# @ hidden cell\nlink = 'https://en.wikipedia.org/wiki/National_Football_League'\ndf = pd.read_html(link)[2]\ncolumns_title  = ['Division', 'Club', 'City', 'Stadium','Capacity', 'Coordinates', 'First season', 'Head coach']\ndf.columns = columns_title\ndf = df[pd.to_numeric(df['Capacity'], errors='coerce').notnull()]\ndf = df.head(5)\ndf"
        },
        {
            "cell_type": "code",
            "execution_count": 8,
            "metadata": {},
            "outputs": [],
            "source": "# @ hidden cell\ndef add_coord (data):\n    coord = data['Coordinates']\n    data['Latitude']   = float(coord[26:32])\n    data['Longitude']  = -float(coord[35:41])\n    return data"
        },
        {
            "cell_type": "code",
            "execution_count": 9,
            "metadata": {},
            "outputs": [],
            "source": "# @ hidden cell\ndf = df.apply(add_coord, axis=1)"
        },
        {
            "cell_type": "code",
            "execution_count": 10,
            "metadata": {},
            "outputs": [],
            "source": "# @ hidden cell\ndef get_coord (data, borough):\n    address = borough\n    geolocator = Nominatim(user_agent=\"ny_explorer\")\n    location = geolocator.geocode(address)\n    latitude = location.latitude\n    longitude = location.longitude\n    return [latitude, longitude]\n    \n\ndef create_map (data, borough):\n    map = folium.Map(width=1000,height=700,location=get_coord(data, borough), zoom_start=4)\n    \n    for lat, lng, borough in zip(data['Latitude'], data['Longitude'], data['City']):\n        label = '{}'.format( borough)\n        label = folium.Popup(label, parse_html=True)\n        folium.CircleMarker(\n            [float(lat), float(lng)],\n            radius=5,\n            popup=label,\n            color='blue',\n            fill=True,\n            fill_color='#3186cc',\n            fill_opacity=0.7,\n            parse_html=False).add_to(map)\n    map\n    return map"
        },
        {
            "cell_type": "code",
            "execution_count": 11,
            "metadata": {},
            "outputs": [
                {
                    "data": {
                        "text/html": "<div style=\"width:100%;\"><div style=\"position:relative;width:100%;height:0;padding-bottom:60%;\"><span style=\"color:#565656\">Make this Notebook Trusted to load map: File -> Trust Notebook</span><iframe src=\"about:blank\" style=\"position:absolute;width:100%;height:100%;left:0;top:0;border:none !important;\" data-html=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 onload=\"this.contentDocument.open();this.contentDocument.write(atob(this.getAttribute('data-html')));this.contentDocument.close();\" allowfullscreen webkitallowfullscreen mozallowfullscreen></iframe></div></div>",
                        "text/plain": "<folium.folium.Map at 0x7f2a1cda7da0>"
                    },
                    "execution_count": 11,
                    "metadata": {},
                    "output_type": "execute_result"
                }
            ],
            "source": "# @ hidden cell\ncreate_map(df, 'Kansas')"
        },
        {
            "cell_type": "markdown",
            "metadata": {},
            "source": "## 3. Methodology section "
        },
        {
            "cell_type": "code",
            "execution_count": null,
            "metadata": {},
            "outputs": [],
            "source": ""
        },
        {
            "cell_type": "markdown",
            "metadata": {},
            "source": "## 4. Results section"
        },
        {
            "cell_type": "code",
            "execution_count": null,
            "metadata": {},
            "outputs": [],
            "source": ""
        },
        {
            "cell_type": "markdown",
            "metadata": {},
            "source": "## 5. Discussion section"
        },
        {
            "cell_type": "code",
            "execution_count": null,
            "metadata": {},
            "outputs": [],
            "source": ""
        },
        {
            "cell_type": "markdown",
            "metadata": {},
            "source": "## 6. Conclusion section"
        },
        {
            "cell_type": "code",
            "execution_count": null,
            "metadata": {},
            "outputs": [],
            "source": ""
        }
    ],
    "metadata": {
        "kernelspec": {
            "display_name": "Python 3.6",
            "language": "python",
            "name": "python3"
        },
        "language_info": {
            "codemirror_mode": {
                "name": "ipython",
                "version": 3
            },
            "file_extension": ".py",
            "mimetype": "text/x-python",
            "name": "python",
            "nbconvert_exporter": "python",
            "pygments_lexer": "ipython3",
            "version": "3.6.9"
        }
    },
    "nbformat": 4,
    "nbformat_minor": 1
}